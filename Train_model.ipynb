{
 "cells": [
  {
   "cell_type": "code",
   "execution_count": 177,
   "id": "a50ab33a-be82-4a3b-8124-0bacc4dfbf37",
   "metadata": {
    "tags": []
   },
   "outputs": [
    {
     "name": "stdout",
     "output_type": "stream",
     "text": [
      "The autoreload extension is already loaded. To reload it, use:\n",
      "  %reload_ext autoreload\n"
     ]
    }
   ],
   "source": [
    "# Ignore warning\n",
    "import warnings\n",
    "warnings.filterwarnings(\"ignore\")\n",
    "\n",
    "import pandas as pd\n",
    "import glob, os\n",
    "import matplotlib.pyplot as plt\n",
    "import numpy as np\n",
    "import geopandas\n",
    "import netCDF4\n",
    "import h5py\n",
    "\n",
    "import datetime as dt\n",
    "from datetime import datetime\n",
    "import pyproj\n",
    "\n",
    "from tqdm import tqdm\n",
    "from sklearn.model_selection import train_test_split\n",
    "from sklearn.model_selection import train_test_split\n",
    "from sklearn import linear_model\n",
    "from sklearn.metrics import mean_squared_error, r2_score\n",
    "from sklearn.svm import SVR\n",
    "from sklearn.preprocessing import PolynomialFeatures\n",
    "\n",
    "import torch\n",
    "from torch.utils.data import TensorDataset, DataLoader, Dataset, random_split\n",
    "import torch.nn as nn\n",
    "import torch.nn.functional as F\n",
    "import torch.optim as optim\n",
    "\n",
    "from pyproj import Proj, transform\n",
    "from shapely.geometry import Polygon\n",
    "import cartopy.crs as ccrs\n",
    "import torch\n",
    "\n",
    "from scipy.interpolate import griddata\n",
    "\n",
    "import cdsapi\n",
    "import xarray as xr\n",
    "from urllib.request import urlopen\n",
    "\n",
    "from urllib.request import urlretrieve\n",
    "\n",
    "import pickle\n",
    "\n",
    "%load_ext autoreload\n",
    "%autoreload 2\n",
    "\n",
    "from functions import *\n",
    "from models import *\n",
    "# from torch_model import *"
   ]
  },
  {
   "cell_type": "code",
   "execution_count": 26,
   "id": "d5af8d71-c880-4f19-9411-b9800505a94e",
   "metadata": {},
   "outputs": [
    {
     "name": "stderr",
     "output_type": "stream",
     "text": [
      "100%|████████████████████████████████████████████████████████████████████████████████████| 4/4 [00:00<00:00, 21.41it/s]\n"
     ]
    },
    {
     "name": "stdout",
     "output_type": "stream",
     "text": [
      "Grid files are read!\n",
      "MLP dataset is ready for lap time 4\n"
     ]
    }
   ],
   "source": [
    "sector = \"Ross\"\n",
    "c = 1\n",
    "laps = 4\n",
    "files = glob.glob(f'D:\\\\IS2_topo_DL\\\\data\\\\Data_{sector}_*.pkl')\n",
    "xx, yy, inputs, outputs = read_grid_input(files, c)\n",
    "\n",
    "ann_input, ann_output = make_mlp_input(inputs, outputs, laps = laps)"
   ]
  },
  {
   "cell_type": "code",
   "execution_count": 27,
   "id": "af502d2a-f4a0-4558-b35a-17dd8c9bf743",
   "metadata": {},
   "outputs": [],
   "source": [
    "train_input, val_input, train_output, val_output = train_test_split(ann_input, ann_output, test_size=0.3, random_state=42)"
   ]
  },
  {
   "cell_type": "code",
   "execution_count": 6,
   "id": "067947a4-dac2-4025-805e-9cdaaab01528",
   "metadata": {},
   "outputs": [],
   "source": [
    "n_samples, in_channels = train_input.shape"
   ]
  },
  {
   "cell_type": "code",
   "execution_count": 23,
   "id": "0ba3f4ec-e5af-4f83-90ce-12f5edd84c30",
   "metadata": {},
   "outputs": [],
   "source": [
    "model = linear_model.LinearRegression()"
   ]
  },
  {
   "cell_type": "code",
   "execution_count": null,
   "id": "b25715e8-dac8-4703-8c3e-4d4ebb1dc02f",
   "metadata": {},
   "outputs": [],
   "source": [
    "model.fit(train_input, train_output)"
   ]
  },
  {
   "cell_type": "code",
   "execution_count": null,
   "id": "313ebd04-1709-4448-8546-39751ffc154b",
   "metadata": {},
   "outputs": [],
   "source": []
  },
  {
   "cell_type": "code",
   "execution_count": 50,
   "id": "41bbf7d9-fe7f-4ad1-ac8a-3dca986cf92e",
   "metadata": {},
   "outputs": [],
   "source": [
    "model = SVR(kernel=\"rbf\", C=100, gamma=0.1, epsilon=0.1)\n",
    "# svr_lin = SVR(kernel=\"linear\", C=100, gamma=\"auto\")\n",
    "# svr_poly = SVR(kernel=\"poly\", C=100, gamma=\"auto\", degree=3, epsilon=0.1, coef0=1)"
   ]
  },
  {
   "cell_type": "code",
   "execution_count": 51,
   "id": "053c6e4e-c9cb-4ca2-b5ed-187bf3710857",
   "metadata": {},
   "outputs": [
    {
     "data": {
      "text/html": [
       "<style>#sk-container-id-3 {\n",
       "  /* Definition of color scheme common for light and dark mode */\n",
       "  --sklearn-color-text: black;\n",
       "  --sklearn-color-line: gray;\n",
       "  /* Definition of color scheme for unfitted estimators */\n",
       "  --sklearn-color-unfitted-level-0: #fff5e6;\n",
       "  --sklearn-color-unfitted-level-1: #f6e4d2;\n",
       "  --sklearn-color-unfitted-level-2: #ffe0b3;\n",
       "  --sklearn-color-unfitted-level-3: chocolate;\n",
       "  /* Definition of color scheme for fitted estimators */\n",
       "  --sklearn-color-fitted-level-0: #f0f8ff;\n",
       "  --sklearn-color-fitted-level-1: #d4ebff;\n",
       "  --sklearn-color-fitted-level-2: #b3dbfd;\n",
       "  --sklearn-color-fitted-level-3: cornflowerblue;\n",
       "\n",
       "  /* Specific color for light theme */\n",
       "  --sklearn-color-text-on-default-background: var(--sg-text-color, var(--theme-code-foreground, var(--jp-content-font-color1, black)));\n",
       "  --sklearn-color-background: var(--sg-background-color, var(--theme-background, var(--jp-layout-color0, white)));\n",
       "  --sklearn-color-border-box: var(--sg-text-color, var(--theme-code-foreground, var(--jp-content-font-color1, black)));\n",
       "  --sklearn-color-icon: #696969;\n",
       "\n",
       "  @media (prefers-color-scheme: dark) {\n",
       "    /* Redefinition of color scheme for dark theme */\n",
       "    --sklearn-color-text-on-default-background: var(--sg-text-color, var(--theme-code-foreground, var(--jp-content-font-color1, white)));\n",
       "    --sklearn-color-background: var(--sg-background-color, var(--theme-background, var(--jp-layout-color0, #111)));\n",
       "    --sklearn-color-border-box: var(--sg-text-color, var(--theme-code-foreground, var(--jp-content-font-color1, white)));\n",
       "    --sklearn-color-icon: #878787;\n",
       "  }\n",
       "}\n",
       "\n",
       "#sk-container-id-3 {\n",
       "  color: var(--sklearn-color-text);\n",
       "}\n",
       "\n",
       "#sk-container-id-3 pre {\n",
       "  padding: 0;\n",
       "}\n",
       "\n",
       "#sk-container-id-3 input.sk-hidden--visually {\n",
       "  border: 0;\n",
       "  clip: rect(1px 1px 1px 1px);\n",
       "  clip: rect(1px, 1px, 1px, 1px);\n",
       "  height: 1px;\n",
       "  margin: -1px;\n",
       "  overflow: hidden;\n",
       "  padding: 0;\n",
       "  position: absolute;\n",
       "  width: 1px;\n",
       "}\n",
       "\n",
       "#sk-container-id-3 div.sk-dashed-wrapped {\n",
       "  border: 1px dashed var(--sklearn-color-line);\n",
       "  margin: 0 0.4em 0.5em 0.4em;\n",
       "  box-sizing: border-box;\n",
       "  padding-bottom: 0.4em;\n",
       "  background-color: var(--sklearn-color-background);\n",
       "}\n",
       "\n",
       "#sk-container-id-3 div.sk-container {\n",
       "  /* jupyter's `normalize.less` sets `[hidden] { display: none; }`\n",
       "     but bootstrap.min.css set `[hidden] { display: none !important; }`\n",
       "     so we also need the `!important` here to be able to override the\n",
       "     default hidden behavior on the sphinx rendered scikit-learn.org.\n",
       "     See: https://github.com/scikit-learn/scikit-learn/issues/21755 */\n",
       "  display: inline-block !important;\n",
       "  position: relative;\n",
       "}\n",
       "\n",
       "#sk-container-id-3 div.sk-text-repr-fallback {\n",
       "  display: none;\n",
       "}\n",
       "\n",
       "div.sk-parallel-item,\n",
       "div.sk-serial,\n",
       "div.sk-item {\n",
       "  /* draw centered vertical line to link estimators */\n",
       "  background-image: linear-gradient(var(--sklearn-color-text-on-default-background), var(--sklearn-color-text-on-default-background));\n",
       "  background-size: 2px 100%;\n",
       "  background-repeat: no-repeat;\n",
       "  background-position: center center;\n",
       "}\n",
       "\n",
       "/* Parallel-specific style estimator block */\n",
       "\n",
       "#sk-container-id-3 div.sk-parallel-item::after {\n",
       "  content: \"\";\n",
       "  width: 100%;\n",
       "  border-bottom: 2px solid var(--sklearn-color-text-on-default-background);\n",
       "  flex-grow: 1;\n",
       "}\n",
       "\n",
       "#sk-container-id-3 div.sk-parallel {\n",
       "  display: flex;\n",
       "  align-items: stretch;\n",
       "  justify-content: center;\n",
       "  background-color: var(--sklearn-color-background);\n",
       "  position: relative;\n",
       "}\n",
       "\n",
       "#sk-container-id-3 div.sk-parallel-item {\n",
       "  display: flex;\n",
       "  flex-direction: column;\n",
       "}\n",
       "\n",
       "#sk-container-id-3 div.sk-parallel-item:first-child::after {\n",
       "  align-self: flex-end;\n",
       "  width: 50%;\n",
       "}\n",
       "\n",
       "#sk-container-id-3 div.sk-parallel-item:last-child::after {\n",
       "  align-self: flex-start;\n",
       "  width: 50%;\n",
       "}\n",
       "\n",
       "#sk-container-id-3 div.sk-parallel-item:only-child::after {\n",
       "  width: 0;\n",
       "}\n",
       "\n",
       "/* Serial-specific style estimator block */\n",
       "\n",
       "#sk-container-id-3 div.sk-serial {\n",
       "  display: flex;\n",
       "  flex-direction: column;\n",
       "  align-items: center;\n",
       "  background-color: var(--sklearn-color-background);\n",
       "  padding-right: 1em;\n",
       "  padding-left: 1em;\n",
       "}\n",
       "\n",
       "\n",
       "/* Toggleable style: style used for estimator/Pipeline/ColumnTransformer box that is\n",
       "clickable and can be expanded/collapsed.\n",
       "- Pipeline and ColumnTransformer use this feature and define the default style\n",
       "- Estimators will overwrite some part of the style using the `sk-estimator` class\n",
       "*/\n",
       "\n",
       "/* Pipeline and ColumnTransformer style (default) */\n",
       "\n",
       "#sk-container-id-3 div.sk-toggleable {\n",
       "  /* Default theme specific background. It is overwritten whether we have a\n",
       "  specific estimator or a Pipeline/ColumnTransformer */\n",
       "  background-color: var(--sklearn-color-background);\n",
       "}\n",
       "\n",
       "/* Toggleable label */\n",
       "#sk-container-id-3 label.sk-toggleable__label {\n",
       "  cursor: pointer;\n",
       "  display: block;\n",
       "  width: 100%;\n",
       "  margin-bottom: 0;\n",
       "  padding: 0.5em;\n",
       "  box-sizing: border-box;\n",
       "  text-align: center;\n",
       "}\n",
       "\n",
       "#sk-container-id-3 label.sk-toggleable__label-arrow:before {\n",
       "  /* Arrow on the left of the label */\n",
       "  content: \"▸\";\n",
       "  float: left;\n",
       "  margin-right: 0.25em;\n",
       "  color: var(--sklearn-color-icon);\n",
       "}\n",
       "\n",
       "#sk-container-id-3 label.sk-toggleable__label-arrow:hover:before {\n",
       "  color: var(--sklearn-color-text);\n",
       "}\n",
       "\n",
       "/* Toggleable content - dropdown */\n",
       "\n",
       "#sk-container-id-3 div.sk-toggleable__content {\n",
       "  max-height: 0;\n",
       "  max-width: 0;\n",
       "  overflow: hidden;\n",
       "  text-align: left;\n",
       "  /* unfitted */\n",
       "  background-color: var(--sklearn-color-unfitted-level-0);\n",
       "}\n",
       "\n",
       "#sk-container-id-3 div.sk-toggleable__content.fitted {\n",
       "  /* fitted */\n",
       "  background-color: var(--sklearn-color-fitted-level-0);\n",
       "}\n",
       "\n",
       "#sk-container-id-3 div.sk-toggleable__content pre {\n",
       "  margin: 0.2em;\n",
       "  border-radius: 0.25em;\n",
       "  color: var(--sklearn-color-text);\n",
       "  /* unfitted */\n",
       "  background-color: var(--sklearn-color-unfitted-level-0);\n",
       "}\n",
       "\n",
       "#sk-container-id-3 div.sk-toggleable__content.fitted pre {\n",
       "  /* unfitted */\n",
       "  background-color: var(--sklearn-color-fitted-level-0);\n",
       "}\n",
       "\n",
       "#sk-container-id-3 input.sk-toggleable__control:checked~div.sk-toggleable__content {\n",
       "  /* Expand drop-down */\n",
       "  max-height: 200px;\n",
       "  max-width: 100%;\n",
       "  overflow: auto;\n",
       "}\n",
       "\n",
       "#sk-container-id-3 input.sk-toggleable__control:checked~label.sk-toggleable__label-arrow:before {\n",
       "  content: \"▾\";\n",
       "}\n",
       "\n",
       "/* Pipeline/ColumnTransformer-specific style */\n",
       "\n",
       "#sk-container-id-3 div.sk-label input.sk-toggleable__control:checked~label.sk-toggleable__label {\n",
       "  color: var(--sklearn-color-text);\n",
       "  background-color: var(--sklearn-color-unfitted-level-2);\n",
       "}\n",
       "\n",
       "#sk-container-id-3 div.sk-label.fitted input.sk-toggleable__control:checked~label.sk-toggleable__label {\n",
       "  background-color: var(--sklearn-color-fitted-level-2);\n",
       "}\n",
       "\n",
       "/* Estimator-specific style */\n",
       "\n",
       "/* Colorize estimator box */\n",
       "#sk-container-id-3 div.sk-estimator input.sk-toggleable__control:checked~label.sk-toggleable__label {\n",
       "  /* unfitted */\n",
       "  background-color: var(--sklearn-color-unfitted-level-2);\n",
       "}\n",
       "\n",
       "#sk-container-id-3 div.sk-estimator.fitted input.sk-toggleable__control:checked~label.sk-toggleable__label {\n",
       "  /* fitted */\n",
       "  background-color: var(--sklearn-color-fitted-level-2);\n",
       "}\n",
       "\n",
       "#sk-container-id-3 div.sk-label label.sk-toggleable__label,\n",
       "#sk-container-id-3 div.sk-label label {\n",
       "  /* The background is the default theme color */\n",
       "  color: var(--sklearn-color-text-on-default-background);\n",
       "}\n",
       "\n",
       "/* On hover, darken the color of the background */\n",
       "#sk-container-id-3 div.sk-label:hover label.sk-toggleable__label {\n",
       "  color: var(--sklearn-color-text);\n",
       "  background-color: var(--sklearn-color-unfitted-level-2);\n",
       "}\n",
       "\n",
       "/* Label box, darken color on hover, fitted */\n",
       "#sk-container-id-3 div.sk-label.fitted:hover label.sk-toggleable__label.fitted {\n",
       "  color: var(--sklearn-color-text);\n",
       "  background-color: var(--sklearn-color-fitted-level-2);\n",
       "}\n",
       "\n",
       "/* Estimator label */\n",
       "\n",
       "#sk-container-id-3 div.sk-label label {\n",
       "  font-family: monospace;\n",
       "  font-weight: bold;\n",
       "  display: inline-block;\n",
       "  line-height: 1.2em;\n",
       "}\n",
       "\n",
       "#sk-container-id-3 div.sk-label-container {\n",
       "  text-align: center;\n",
       "}\n",
       "\n",
       "/* Estimator-specific */\n",
       "#sk-container-id-3 div.sk-estimator {\n",
       "  font-family: monospace;\n",
       "  border: 1px dotted var(--sklearn-color-border-box);\n",
       "  border-radius: 0.25em;\n",
       "  box-sizing: border-box;\n",
       "  margin-bottom: 0.5em;\n",
       "  /* unfitted */\n",
       "  background-color: var(--sklearn-color-unfitted-level-0);\n",
       "}\n",
       "\n",
       "#sk-container-id-3 div.sk-estimator.fitted {\n",
       "  /* fitted */\n",
       "  background-color: var(--sklearn-color-fitted-level-0);\n",
       "}\n",
       "\n",
       "/* on hover */\n",
       "#sk-container-id-3 div.sk-estimator:hover {\n",
       "  /* unfitted */\n",
       "  background-color: var(--sklearn-color-unfitted-level-2);\n",
       "}\n",
       "\n",
       "#sk-container-id-3 div.sk-estimator.fitted:hover {\n",
       "  /* fitted */\n",
       "  background-color: var(--sklearn-color-fitted-level-2);\n",
       "}\n",
       "\n",
       "/* Specification for estimator info (e.g. \"i\" and \"?\") */\n",
       "\n",
       "/* Common style for \"i\" and \"?\" */\n",
       "\n",
       ".sk-estimator-doc-link,\n",
       "a:link.sk-estimator-doc-link,\n",
       "a:visited.sk-estimator-doc-link {\n",
       "  float: right;\n",
       "  font-size: smaller;\n",
       "  line-height: 1em;\n",
       "  font-family: monospace;\n",
       "  background-color: var(--sklearn-color-background);\n",
       "  border-radius: 1em;\n",
       "  height: 1em;\n",
       "  width: 1em;\n",
       "  text-decoration: none !important;\n",
       "  margin-left: 1ex;\n",
       "  /* unfitted */\n",
       "  border: var(--sklearn-color-unfitted-level-1) 1pt solid;\n",
       "  color: var(--sklearn-color-unfitted-level-1);\n",
       "}\n",
       "\n",
       ".sk-estimator-doc-link.fitted,\n",
       "a:link.sk-estimator-doc-link.fitted,\n",
       "a:visited.sk-estimator-doc-link.fitted {\n",
       "  /* fitted */\n",
       "  border: var(--sklearn-color-fitted-level-1) 1pt solid;\n",
       "  color: var(--sklearn-color-fitted-level-1);\n",
       "}\n",
       "\n",
       "/* On hover */\n",
       "div.sk-estimator:hover .sk-estimator-doc-link:hover,\n",
       ".sk-estimator-doc-link:hover,\n",
       "div.sk-label-container:hover .sk-estimator-doc-link:hover,\n",
       ".sk-estimator-doc-link:hover {\n",
       "  /* unfitted */\n",
       "  background-color: var(--sklearn-color-unfitted-level-3);\n",
       "  color: var(--sklearn-color-background);\n",
       "  text-decoration: none;\n",
       "}\n",
       "\n",
       "div.sk-estimator.fitted:hover .sk-estimator-doc-link.fitted:hover,\n",
       ".sk-estimator-doc-link.fitted:hover,\n",
       "div.sk-label-container:hover .sk-estimator-doc-link.fitted:hover,\n",
       ".sk-estimator-doc-link.fitted:hover {\n",
       "  /* fitted */\n",
       "  background-color: var(--sklearn-color-fitted-level-3);\n",
       "  color: var(--sklearn-color-background);\n",
       "  text-decoration: none;\n",
       "}\n",
       "\n",
       "/* Span, style for the box shown on hovering the info icon */\n",
       ".sk-estimator-doc-link span {\n",
       "  display: none;\n",
       "  z-index: 9999;\n",
       "  position: relative;\n",
       "  font-weight: normal;\n",
       "  right: .2ex;\n",
       "  padding: .5ex;\n",
       "  margin: .5ex;\n",
       "  width: min-content;\n",
       "  min-width: 20ex;\n",
       "  max-width: 50ex;\n",
       "  color: var(--sklearn-color-text);\n",
       "  box-shadow: 2pt 2pt 4pt #999;\n",
       "  /* unfitted */\n",
       "  background: var(--sklearn-color-unfitted-level-0);\n",
       "  border: .5pt solid var(--sklearn-color-unfitted-level-3);\n",
       "}\n",
       "\n",
       ".sk-estimator-doc-link.fitted span {\n",
       "  /* fitted */\n",
       "  background: var(--sklearn-color-fitted-level-0);\n",
       "  border: var(--sklearn-color-fitted-level-3);\n",
       "}\n",
       "\n",
       ".sk-estimator-doc-link:hover span {\n",
       "  display: block;\n",
       "}\n",
       "\n",
       "/* \"?\"-specific style due to the `<a>` HTML tag */\n",
       "\n",
       "#sk-container-id-3 a.estimator_doc_link {\n",
       "  float: right;\n",
       "  font-size: 1rem;\n",
       "  line-height: 1em;\n",
       "  font-family: monospace;\n",
       "  background-color: var(--sklearn-color-background);\n",
       "  border-radius: 1rem;\n",
       "  height: 1rem;\n",
       "  width: 1rem;\n",
       "  text-decoration: none;\n",
       "  /* unfitted */\n",
       "  color: var(--sklearn-color-unfitted-level-1);\n",
       "  border: var(--sklearn-color-unfitted-level-1) 1pt solid;\n",
       "}\n",
       "\n",
       "#sk-container-id-3 a.estimator_doc_link.fitted {\n",
       "  /* fitted */\n",
       "  border: var(--sklearn-color-fitted-level-1) 1pt solid;\n",
       "  color: var(--sklearn-color-fitted-level-1);\n",
       "}\n",
       "\n",
       "/* On hover */\n",
       "#sk-container-id-3 a.estimator_doc_link:hover {\n",
       "  /* unfitted */\n",
       "  background-color: var(--sklearn-color-unfitted-level-3);\n",
       "  color: var(--sklearn-color-background);\n",
       "  text-decoration: none;\n",
       "}\n",
       "\n",
       "#sk-container-id-3 a.estimator_doc_link.fitted:hover {\n",
       "  /* fitted */\n",
       "  background-color: var(--sklearn-color-fitted-level-3);\n",
       "}\n",
       "</style><div id=\"sk-container-id-3\" class=\"sk-top-container\"><div class=\"sk-text-repr-fallback\"><pre>SVR(C=100, gamma=0.1)</pre><b>In a Jupyter environment, please rerun this cell to show the HTML representation or trust the notebook. <br />On GitHub, the HTML representation is unable to render, please try loading this page with nbviewer.org.</b></div><div class=\"sk-container\" hidden><div class=\"sk-item\"><div class=\"sk-estimator fitted sk-toggleable\"><input class=\"sk-toggleable__control sk-hidden--visually\" id=\"sk-estimator-id-3\" type=\"checkbox\" checked><label for=\"sk-estimator-id-3\" class=\"sk-toggleable__label fitted sk-toggleable__label-arrow fitted\">&nbsp;&nbsp;SVR<a class=\"sk-estimator-doc-link fitted\" rel=\"noreferrer\" target=\"_blank\" href=\"https://scikit-learn.org/1.4/modules/generated/sklearn.svm.SVR.html\">?<span>Documentation for SVR</span></a><span class=\"sk-estimator-doc-link fitted\">i<span>Fitted</span></span></label><div class=\"sk-toggleable__content fitted\"><pre>SVR(C=100, gamma=0.1)</pre></div> </div></div></div></div>"
      ],
      "text/plain": [
       "SVR(C=100, gamma=0.1)"
      ]
     },
     "execution_count": 51,
     "metadata": {},
     "output_type": "execute_result"
    }
   ],
   "source": [
    "model.fit(train_input[:10], train_output[:10])\n"
   ]
  },
  {
   "cell_type": "code",
   "execution_count": 52,
   "id": "4cafbdea-df49-447e-93d8-5c1596d2f004",
   "metadata": {},
   "outputs": [
    {
     "ename": "ValueError",
     "evalue": "could not broadcast input array from shape (67727,) into shape (67727,1)",
     "output_type": "error",
     "traceback": [
      "\u001b[1;31m---------------------------------------------------------------------------\u001b[0m",
      "\u001b[1;31mValueError\u001b[0m                                Traceback (most recent call last)",
      "Cell \u001b[1;32mIn[52], line 2\u001b[0m\n\u001b[0;32m      1\u001b[0m train_pred \u001b[38;5;241m=\u001b[39m np\u001b[38;5;241m.\u001b[39mzeros(train_output\u001b[38;5;241m.\u001b[39mshape)\n\u001b[1;32m----> 2\u001b[0m train_pred[:, :] \u001b[38;5;241m=\u001b[39m model\u001b[38;5;241m.\u001b[39mpredict(train_input)\n",
      "\u001b[1;31mValueError\u001b[0m: could not broadcast input array from shape (67727,) into shape (67727,1)"
     ]
    }
   ],
   "source": [
    "train_pred = np.zeros(train_output.shape)\n",
    "train_pred[:, :] = model.predict(train_input)"
   ]
  },
  {
   "cell_type": "code",
   "execution_count": null,
   "id": "a5acf04c-a951-4bb3-b90a-f4448ae022d3",
   "metadata": {},
   "outputs": [],
   "source": []
  },
  {
   "cell_type": "code",
   "execution_count": null,
   "id": "840c355b-4a46-40e9-99a2-9d649585fff3",
   "metadata": {},
   "outputs": [],
   "source": []
  },
  {
   "cell_type": "code",
   "execution_count": 47,
   "id": "dcf08df9-2282-42ee-859c-7e76690b8d21",
   "metadata": {},
   "outputs": [],
   "source": [
    "model = linear_model.LinearRegression()\n",
    "# poly = PolynomialFeatures(degree=2)\n",
    "# train_input = poly.fit_transform(train_input)\n",
    "# val_input = poly.fit_transform(val_input)"
   ]
  },
  {
   "cell_type": "code",
   "execution_count": 49,
   "id": "f16c68d3-0859-4e56-bf56-88cba69bf0a3",
   "metadata": {},
   "outputs": [],
   "source": [
    "model.fit(train_input, train_output)\n",
    "\n",
    "train_pred = np.zeros(train_output.shape)\n",
    "train_pred[:, :] = model.predict(train_input)"
   ]
  },
  {
   "cell_type": "code",
   "execution_count": 38,
   "id": "88ca973b-6fdf-4d3f-a0b0-5f3a09c2358a",
   "metadata": {},
   "outputs": [
    {
     "ename": "MemoryError",
     "evalue": "Unable to allocate 34.2 GiB for an array with shape (67727, 67727, 1) and data type float64",
     "output_type": "error",
     "traceback": [
      "\u001b[1;31m---------------------------------------------------------------------------\u001b[0m",
      "\u001b[1;31mMemoryError\u001b[0m                               Traceback (most recent call last)",
      "Cell \u001b[1;32mIn[38], line 1\u001b[0m\n\u001b[1;32m----> 1\u001b[0m \u001b[43mRMSE\u001b[49m\u001b[43m(\u001b[49m\u001b[43mtrain_pred\u001b[49m\u001b[43m,\u001b[49m\u001b[43m \u001b[49m\u001b[43mtrain_output\u001b[49m\u001b[43m)\u001b[49m\n",
      "File \u001b[1;32m~\\Research\\Seaice_topo_DL\\functions.py:503\u001b[0m, in \u001b[0;36mRMSE\u001b[1;34m(prd, obs)\u001b[0m\n\u001b[0;32m    502\u001b[0m \u001b[38;5;28;01mdef\u001b[39;00m \u001b[38;5;21mRMSE\u001b[39m(prd, obs):\n\u001b[1;32m--> 503\u001b[0m     err \u001b[38;5;241m=\u001b[39m np\u001b[38;5;241m.\u001b[39msquare(\u001b[43mobs\u001b[49m\u001b[38;5;241;43m-\u001b[39;49m\u001b[43mprd\u001b[49m)\n\u001b[0;32m    504\u001b[0m     \u001b[38;5;28;01mreturn\u001b[39;00m np\u001b[38;5;241m.\u001b[39mnanmean(err)\u001b[38;5;241m*\u001b[39m\u001b[38;5;241m*\u001b[39m\u001b[38;5;241m0.5\u001b[39m\n",
      "\u001b[1;31mMemoryError\u001b[0m: Unable to allocate 34.2 GiB for an array with shape (67727, 67727, 1) and data type float64"
     ]
    }
   ],
   "source": [
    "RMSE(train_pred, train_output)"
   ]
  },
  {
   "cell_type": "code",
   "execution_count": null,
   "id": "b34cede2-10bc-468f-913c-f4314e049b6f",
   "metadata": {},
   "outputs": [],
   "source": [
    "plt.scatter(train_pred, train_output, alpha = 0.01)"
   ]
  },
  {
   "cell_type": "code",
   "execution_count": 182,
   "id": "6679f6e6-a99d-4671-b461-6eec4985fd50",
   "metadata": {},
   "outputs": [],
   "source": [
    "train_input, val_input, train_output, val_output = train_test_split(ann_input, ann_output, test_size=0.3, random_state=42)\n",
    "    \n",
    "train_input = torch.tensor(train_input, dtype=torch.float32)\n",
    "train_output = torch.tensor(train_output, dtype=torch.float32)\n",
    "val_input = torch.tensor(val_input, dtype=torch.float32)\n",
    "val_output = torch.tensor(val_output, dtype=torch.float32)"
   ]
  },
  {
   "cell_type": "code",
   "execution_count": 184,
   "id": "faee9646-1ad0-47a7-b785-7be1e847ea35",
   "metadata": {},
   "outputs": [
    {
     "data": {
      "text/plain": [
       "torch.Size([58051, 1])"
      ]
     },
     "execution_count": 184,
     "metadata": {},
     "output_type": "execute_result"
    }
   ],
   "source": [
    "train_output.shape"
   ]
  },
  {
   "cell_type": "code",
   "execution_count": 173,
   "id": "de80fae2-b83f-4cb2-9f9a-0d390a27a4d4",
   "metadata": {},
   "outputs": [],
   "source": [
    "lstm = nn.LSTM(9, 64, num_layers = 4, batch_first = True)"
   ]
  },
  {
   "cell_type": "code",
   "execution_count": 174,
   "id": "ecc4f7b7-9278-4e1a-836a-44fea12dae88",
   "metadata": {},
   "outputs": [],
   "source": [
    "batch = train_input[:16]\n",
    "output, (h, c) = lstm(batch)\n",
    "x = output.contiguous() #.view(-1, 1, 64*8)"
   ]
  },
  {
   "cell_type": "code",
   "execution_count": 176,
   "id": "cee4b05d-70fd-41d5-b254-8e82d2a6d7af",
   "metadata": {},
   "outputs": [
    {
     "data": {
      "text/plain": [
       "torch.Size([38702, 1, 1])"
      ]
     },
     "execution_count": 176,
     "metadata": {},
     "output_type": "execute_result"
    }
   ],
   "source": [
    "val_output.shape"
   ]
  },
  {
   "cell_type": "code",
   "execution_count": 172,
   "id": "48e2ef60-14ce-404a-b216-fde212f8b2aa",
   "metadata": {},
   "outputs": [
    {
     "data": {
      "text/plain": [
       "tensor([[[ 0.0093,  0.0208, -0.0256,  ...,  0.0449, -0.0446,  0.0176],\n",
       "         [ 0.0092,  0.0343, -0.0342,  ...,  0.0638, -0.0632,  0.0259],\n",
       "         [ 0.0069,  0.0425, -0.0361,  ...,  0.0714, -0.0714,  0.0293],\n",
       "         [ 0.0046,  0.0474, -0.0355,  ...,  0.0744, -0.0756,  0.0305]],\n",
       "\n",
       "        [[ 0.0093,  0.0208, -0.0256,  ...,  0.0449, -0.0446,  0.0176],\n",
       "         [ 0.0092,  0.0344, -0.0342,  ...,  0.0638, -0.0632,  0.0259],\n",
       "         [ 0.0069,  0.0426, -0.0360,  ...,  0.0713, -0.0714,  0.0293],\n",
       "         [ 0.0047,  0.0474, -0.0354,  ...,  0.0743, -0.0756,  0.0305]],\n",
       "\n",
       "        [[ 0.0093,  0.0208, -0.0256,  ...,  0.0449, -0.0446,  0.0176],\n",
       "         [ 0.0092,  0.0344, -0.0342,  ...,  0.0638, -0.0632,  0.0259],\n",
       "         [ 0.0070,  0.0427, -0.0361,  ...,  0.0712, -0.0713,  0.0293],\n",
       "         [ 0.0047,  0.0475, -0.0356,  ...,  0.0742, -0.0755,  0.0305]],\n",
       "\n",
       "        ...,\n",
       "\n",
       "        [[ 0.0093,  0.0208, -0.0256,  ...,  0.0449, -0.0446,  0.0176],\n",
       "         [ 0.0092,  0.0343, -0.0341,  ...,  0.0638, -0.0632,  0.0259],\n",
       "         [ 0.0070,  0.0425, -0.0360,  ...,  0.0713, -0.0713,  0.0292],\n",
       "         [ 0.0047,  0.0473, -0.0354,  ...,  0.0743, -0.0755,  0.0304]],\n",
       "\n",
       "        [[ 0.0093,  0.0208, -0.0256,  ...,  0.0449, -0.0446,  0.0176],\n",
       "         [ 0.0092,  0.0344, -0.0342,  ...,  0.0638, -0.0632,  0.0260],\n",
       "         [ 0.0069,  0.0426, -0.0360,  ...,  0.0713, -0.0713,  0.0294],\n",
       "         [ 0.0046,  0.0475, -0.0355,  ...,  0.0744, -0.0756,  0.0307]],\n",
       "\n",
       "        [[ 0.0093,  0.0208, -0.0255,  ...,  0.0449, -0.0446,  0.0176],\n",
       "         [ 0.0092,  0.0343, -0.0341,  ...,  0.0637, -0.0631,  0.0259],\n",
       "         [ 0.0069,  0.0425, -0.0359,  ...,  0.0712, -0.0713,  0.0293],\n",
       "         [ 0.0046,  0.0473, -0.0352,  ...,  0.0741, -0.0754,  0.0305]]],\n",
       "       grad_fn=<CloneBackward0>)"
      ]
     },
     "execution_count": 172,
     "metadata": {},
     "output_type": "execute_result"
    }
   ],
   "source": [
    "x"
   ]
  },
  {
   "cell_type": "code",
   "execution_count": 191,
   "id": "f9fe352d-ebf2-4fdb-a5ad-3828ee3f81a2",
   "metadata": {},
   "outputs": [],
   "source": [
    "model = LSTM(9, 1, laps=laps,features=64, hidden_layers = 4)"
   ]
  },
  {
   "cell_type": "code",
   "execution_count": 192,
   "id": "a21d5849-38e3-436e-9e88-6e0fddfb11f4",
   "metadata": {},
   "outputs": [],
   "source": [
    "a = model(train_input[:16])"
   ]
  },
  {
   "cell_type": "code",
   "execution_count": 195,
   "id": "ad6a3600-8cfa-41bc-8a62-6b487081d330",
   "metadata": {},
   "outputs": [
    {
     "data": {
      "text/plain": [
       "torch.Size([58051, 4, 9])"
      ]
     },
     "execution_count": 195,
     "metadata": {},
     "output_type": "execute_result"
    }
   ],
   "source": [
    "train_input.size()"
   ]
  },
  {
   "cell_type": "code",
   "execution_count": 210,
   "id": "e5d8018a-4620-483a-8816-40f5162a05fc",
   "metadata": {},
   "outputs": [
    {
     "data": {
      "text/plain": [
       "4.5"
      ]
     },
     "execution_count": 210,
     "metadata": {},
     "output_type": "execute_result"
    }
   ],
   "source": [
    "np.mean([3,4,5,6])"
   ]
  },
  {
   "cell_type": "code",
   "execution_count": 209,
   "id": "458ca3e8-5704-4246-a231-f11fa5495aee",
   "metadata": {},
   "outputs": [
    {
     "data": {
      "text/plain": [
       "<matplotlib.colorbar.Colorbar at 0x2472fa06710>"
      ]
     },
     "execution_count": 209,
     "metadata": {},
     "output_type": "execute_result"
    },
    {
     "data": {
      "image/png": "[encoded data removed]",
      "text/plain": [
       "<Figure size 640x480 with 2 Axes>"
      ]
     },
     "metadata": {},
     "output_type": "display_data"
    }
   ],
   "source": [
    "plt.pcolormesh(xx, yy, inputs[40, 4])\n",
    "plt.colorbar()"
   ]
  },
  {
   "cell_type": "code",
   "execution_count": 3,
   "id": "2e45727d-d07e-4e4b-b754-dc8ed23a36f8",
   "metadata": {},
   "outputs": [
    {
     "name": "stderr",
     "output_type": "stream",
     "text": [
      "100%|████████████████████████████████████████████████████████████████████████████████████| 4/4 [00:00<00:00, 16.96it/s]\n"
     ]
    },
    {
     "name": "stdout",
     "output_type": "stream",
     "text": [
      "Grid files are read!\n"
     ]
    },
    {
     "name": "stderr",
     "output_type": "stream",
     "text": [
      "100%|████████████████████████████████████████████████████████████████████████████████| 156/156 [00:06<00:00, 25.87it/s]"
     ]
    },
    {
     "name": "stdout",
     "output_type": "stream",
     "text": [
      "CNN dataset is ready for lap time 4\n"
     ]
    },
    {
     "name": "stderr",
     "output_type": "stream",
     "text": [
      "\n"
     ]
    }
   ],
   "source": [
    "sector = \"Ross\"\n",
    "c = 1\n",
    "laps = 4\n",
    "files = glob.glob(f'D:\\\\IS2_topo_DL\\\\data\\\\Data_{sector}_*.pkl')\n",
    "xx, yy, inputs, outputs = read_grid_input(files, c)\n",
    "\n",
    "row0, col0 = xx.shape\n",
    "\n",
    "w = 96\n",
    "\n",
    "xx = xx[row0//2-w//2:row0//2+w//2, col0//2-w//2:col0//2+w//2]\n",
    "yy = yy[row0//2-w//2:row0//2+w//2, col0//2-w//2:col0//2+w//2]\n",
    "inputs = inputs[:, :, row0//2-w//2:row0//2+w//2, col0//2-w//2:col0//2+w//2]\n",
    "outputs = outputs[:, :, row0//2-w//2:row0//2+w//2, col0//2-w//2:col0//2+w//2]\n",
    "\n",
    "ann_input, ann_output = make_cnn_input(inputs, outputs, laps = laps)"
   ]
  },
  {
   "cell_type": "code",
   "execution_count": 16,
   "id": "55a24fd8-5c23-4a36-a3da-a3361065fa7b",
   "metadata": {},
   "outputs": [],
   "source": [
    "loss_fn = ref_loss()"
   ]
  },
  {
   "cell_type": "code",
   "execution_count": 7,
   "id": "a4931b81-030b-4a34-bd4e-92176a223d8d",
   "metadata": {},
   "outputs": [
    {
     "name": "stdout",
     "output_type": "stream",
     "text": [
      "torch.Size([109, 36, 96, 96]) torch.Size([109, 1, 96, 96])\n"
     ]
    }
   ],
   "source": [
    "train_input, val_input, train_output, val_output = train_test_split(ann_input, ann_output, test_size=0.3, random_state=42)\n",
    "    \n",
    "train_input = torch.tensor(train_input, dtype=torch.float32)\n",
    "train_output = torch.tensor(train_output, dtype=torch.float32)\n",
    "val_input = torch.tensor(val_input, dtype=torch.float32)\n",
    "val_output = torch.tensor(val_output, dtype=torch.float32)\n",
    "\n",
    "print(train_input.shape, train_output.shape)"
   ]
  },
  {
   "cell_type": "code",
   "execution_count": 15,
   "id": "ac681150-c48f-436c-9782-8d8f98151343",
   "metadata": {},
   "outputs": [
    {
     "data": {
      "text/plain": [
       "<matplotlib.image.AxesImage at 0x2c90ec6ac50>"
      ]
     },
     "execution_count": 15,
     "metadata": {},
     "output_type": "execute_result"
    },
    {
     "data": {
      "image/png": "[encoded data removed]",
      "text/plain": [
       "<Figure size 640x480 with 1 Axes>"
      ]
     },
     "metadata": {},
     "output_type": "display_data"
    }
   ],
   "source": [
    "plt.imshow(y[0, 0].detach().numpy())"
   ]
  },
  {
   "cell_type": "code",
   "execution_count": 8,
   "id": "6653c8a0-53cd-4a60-969e-b3fbfd2f7061",
   "metadata": {},
   "outputs": [],
   "source": [
    "model = CNN(36, 1, 16)"
   ]
  },
  {
   "cell_type": "code",
   "execution_count": 18,
   "id": "28ef6b10-f856-4b38-943b-ff2877ae7f20",
   "metadata": {},
   "outputs": [],
   "source": [
    "y = model(train_input[:8])"
   ]
  },
  {
   "cell_type": "code",
   "execution_count": 19,
   "id": "0b361011-885d-4aa0-a080-8eb74c032a5f",
   "metadata": {},
   "outputs": [
    {
     "data": {
      "text/plain": [
       "tensor(0.0146, grad_fn=<DivBackward0>)"
      ]
     },
     "execution_count": 19,
     "metadata": {},
     "output_type": "execute_result"
    }
   ],
   "source": [
    "loss_fn(train_output[:8], y)"
   ]
  },
  {
   "cell_type": "code",
   "execution_count": 66,
   "id": "c73dca92-1c1a-485e-bc9b-75ba71c09a79",
   "metadata": {},
   "outputs": [
    {
     "name": "stdout",
     "output_type": "stream",
     "text": [
      "Number of parameters: 14625\n"
     ]
    }
   ],
   "source": [
    "total_params = sum(p.numel() for p in model.parameters())\n",
    "print(f\"Number of parameters: {total_params}\")"
   ]
  },
  {
   "cell_type": "code",
   "execution_count": 84,
   "id": "49d42d8c-a324-4c63-82be-83b98fc9e6a9",
   "metadata": {},
   "outputs": [
    {
     "data": {
      "text/plain": [
       "<matplotlib.collections.QuadMesh at 0x24724ba2aa0>"
      ]
     },
     "execution_count": 84,
     "metadata": {},
     "output_type": "execute_result"
    },
    {
     "data": {
      "image/png": "[encoded data removed]",
      "text/plain": [
       "<Figure size 640x480 with 1 Axes>"
      ]
     },
     "metadata": {},
     "output_type": "display_data"
    }
   ],
   "source": [
    "plt.pcolormesh(xx, yy, train_output[6, 0])"
   ]
  },
  {
   "cell_type": "code",
   "execution_count": null,
   "id": "58a20cd1-e5b4-473a-ade3-60afa8551e77",
   "metadata": {},
   "outputs": [],
   "source": [
    "class encoder(nn.Module):\n",
    "    def __init__(self, ch1, ch2, k=3):\n",
    "        super(encoder,self).__init__()\n",
    "        self.activation = nn.Tanh() #nn.LeakyReLU(0.1) #nn.Tanh() #nn.ReLU() #nn.Tanh() #nn.LeakyReLU(0.1)\n",
    "        self.e11 = nn.Conv2d(ch1, ch2, kernel_size=k, padding=\"valid\") # output: 320x320x64\n",
    "        self.pool1 = nn.MaxPool2d(kernel_size=2, stride=2) # output: 160x160x64\n",
    "\n",
    "    def forward(self, x):\n",
    "        x = self.activation(self.e11(x))\n",
    "        x = self.pool1(x)\n",
    "        return x\n",
    "\n",
    "\n",
    "class CNN(nn.Module):\n",
    "    def __init__(self, ch_inputs, ch_outputs, features=32, hidden_layers = 4, row = 100, col = 100, kernel = 3):\n",
    "        super(CNN, self).__init__()\n",
    "\n",
    "        self.conv1 = encoder(ch_inputs, features)\n",
    "        self.conv2 = encoder(features, features)\n",
    "        self.conv3 = encoder(features, features)\n",
    "\n",
    "    def forward(self, in_feat):\n",
    "\n",
    "        x = self.conv1(in_feat)\n",
    "        x = self.conv2(x)\n",
    "        x = self.conv3(x)\n",
    "        \n",
    "        return x"
   ]
  },
  {
   "cell_type": "code",
   "execution_count": null,
   "id": "47c74c8f-909e-44a1-bb83-d17cbd7d9604",
   "metadata": {},
   "outputs": [],
   "source": [
    "\n",
    "test = torch.tensor()\n",
    "\n",
    "\n",
    "modules = [nn.Conv2d(ch_inputs, features, kernel, padding = \"valid\")]\n",
    "for i in range(hidden_layers):\n",
    "    modules.append(nn.Conv2d(n_filters, n_filters, kernel, padding = \"valid\"))\n",
    "    modules.append(nn.LeakyReLU())\n",
    "    modules.append(nn.MaxPool2d(2, 2))\n",
    "    row = row\n",
    "    col = col\n",
    "\n",
    "modules.append(nn.Linear(16 * 5 * 5, 120), features)\n",
    "modules.append(nn.Linear(features, ch_outputs))\n",
    "modules.append(nn.ReLU())\n",
    "self.conv = nn.Sequential(*modules)"
   ]
  },
  {
   "cell_type": "code",
   "execution_count": 3,
   "id": "cfa53d07-6e37-4d6c-9ad7-cb7896e33906",
   "metadata": {},
   "outputs": [
    {
     "name": "stdout",
     "output_type": "stream",
     "text": [
      "Downloading C:\\Users\\yoko2261\\.dgl\\GINDataset.zip from https://raw.githubusercontent.com/weihua916/powerful-gnns/master/dataset.zip...\n"
     ]
    },
    {
     "name": "stderr",
     "output_type": "stream",
     "text": [
      "C:\\Users\\yoko2261\\.dgl\\GINDataset.zip: 100%|██████████████████████████████████████| 33.4M/33.4M [00:02<00:00, 16.4MB/s]\n"
     ]
    },
    {
     "name": "stdout",
     "output_type": "stream",
     "text": [
      "Extracting file to C:\\Users\\yoko2261\\.dgl\\GINDataset\n"
     ]
    }
   ],
   "source": [
    "import dgl.data\n",
    "dataset = dgl.data.GINDataset('MUTAG', False)"
   ]
  },
  {
   "cell_type": "code",
   "execution_count": 11,
   "id": "e57c2ed0-ef89-4502-9fa7-3bb4c7fa1fb8",
   "metadata": {},
   "outputs": [
    {
     "data": {
      "text/plain": [
       "tensor([0, 0, 0, 0, 0, 0, 0, 0, 0, 0, 0, 0, 0, 0, 0, 0, 0, 0, 0, 0, 0, 0, 0, 0,\n",
       "        0, 0, 0, 0, 0, 0, 0, 0, 0, 0, 0, 0, 0, 0, 0, 0, 0, 0, 0, 0, 0, 0, 0, 0,\n",
       "        0, 0, 0, 0, 0, 0, 0, 0, 0, 0, 0, 0, 0, 0, 0, 0, 0, 0, 0, 0, 0, 0, 0, 0,\n",
       "        0, 0, 0, 0, 0, 0, 0, 0, 0, 0, 0, 0, 0, 0, 0, 0, 0, 0, 0, 0, 0, 0, 0, 0,\n",
       "        0, 0, 0, 0, 0, 0, 0, 0, 0, 0, 0, 0, 0, 0, 0, 0, 0, 0, 0, 0, 0, 0, 0, 0,\n",
       "        0, 0, 0, 0, 0, 1, 1, 1, 1, 1, 1, 1, 1, 1, 1, 1, 1, 1, 1, 1, 1, 1, 1, 1,\n",
       "        1, 1, 1, 1, 1, 1, 1, 1, 1, 1, 1, 1, 1, 1, 1, 1, 1, 1, 1, 1, 1, 1, 1, 1,\n",
       "        1, 1, 1, 1, 1, 1, 1, 1, 1, 1, 1, 1, 1, 1, 1, 1, 1, 1, 1, 1])"
      ]
     },
     "execution_count": 11,
     "metadata": {},
     "output_type": "execute_result"
    }
   ],
   "source": [
    "dataset[:][1]"
   ]
  },
  {
   "cell_type": "code",
   "execution_count": 17,
   "id": "7ebfb4e7-b865-4f8a-b1b4-f5ec37ec50b3",
   "metadata": {},
   "outputs": [
    {
     "name": "stderr",
     "output_type": "stream",
     "text": [
      "100%|████████████████████████████████████████████████████████████████████████████████| 156/156 [00:12<00:00, 12.80it/s]\n"
     ]
    }
   ],
   "source": [
    "laps = 4\n",
    "\n",
    "n_samples, var_ip, row, col = np.shape(inputs)\n",
    "_, var_op, _, _ = np.shape(outputs)\n",
    "\n",
    "inputs[np.isnan(inputs)] = 0\n",
    "# outputs[np.isnan(outputs)] = 0\n",
    "\n",
    "first = True\n",
    "for n in tqdm(range(0, n_samples-laps)):\n",
    "    # sic = inputs[n+laps, 2, :, :]\n",
    "    # valid = np.where((sic > 0.8) & (outputs[n+laps, 0] > 0) & (outputs[n+laps, 0] <= 1) & (mask))\n",
    "\n",
    "    # n_valid = valid[0].shape[0]\n",
    "\n",
    "    ann_input0 = np.zeros([1, var_ip * laps, row, col])\n",
    "    ann_output0 = np.zeros([1, var_op, row, col])\n",
    "    \n",
    "    for v in range(0, var_ip):\n",
    "        for i in range(0, laps):\n",
    "            ann_input0[0, v*laps+i] = normalize_input(inputs[n+i, v], v)\n",
    "    for v in range(0, var_op):\n",
    "        ann_output0[0, v] = outputs[n+laps, v]\n",
    "\n",
    "    if first:\n",
    "        ann_input = ann_input0\n",
    "        ann_output = ann_output0\n",
    "        first = False\n",
    "    else:\n",
    "        ann_input = np.concatenate((ann_input, ann_input0), axis = 0)\n",
    "        ann_output = np.concatenate((ann_output, ann_output0), axis = 0)"
   ]
  },
  {
   "cell_type": "code",
   "execution_count": null,
   "id": "8dcd62d4-52ef-4ffb-9486-9398631c104d",
   "metadata": {},
   "outputs": [],
   "source": [
    "c = 1\n",
    "laps = 4\n",
    "sector = \"Ross\"\n",
    "files = glob.glob(f'D:\\\\IS2_topo_DL\\\\data\\\\Data_{sector}_*.pkl')\n",
    "xx, yy, inputs, outputs = read_grid_input(files, c)"
   ]
  },
  {
   "cell_type": "code",
   "execution_count": null,
   "id": "5658b783-7155-46a5-856d-8aa8525f1e2d",
   "metadata": {
    "scrolled": true
   },
   "outputs": [],
   "source": [
    "ann_input, ann_output = make_cnn_input(inputs, outputs, laps)\n",
    "\n",
    "train_input, val_input, train_output, val_output = train_test_split(ann_input, ann_output, test_size=0.4, random_state=42)\n",
    "\n",
    "# train_input = torch.tensor(train_input, dtype=torch.float32)\n",
    "# train_output = torch.tensor(train_output, dtype=torch.float32)\n",
    "# val_input = torch.tensor(val_input, dtype=torch.float32)\n",
    "# val_output = torch.tensor(val_output, dtype=torch.float32)\n",
    "\n",
    "# train_dataset = TensorDataset(train_input, train_output)\n",
    "# train_loader = DataLoader(train_dataset, batch_size=batch_size)\n",
    "# val_dataset = TensorDataset(val_input, val_output)\n",
    "# val_loader = DataLoader(val_dataset, batch_size=batch_size)\n",
    "\n",
    "# n_samples, in_channels = train_input.size()\n",
    "# _, out_channels = train_output.size()\n",
    "# print(f\"##### TRAINING DATA IS PREPARED (Samples: {n_samples}; model: {args.model}) #####\")\n",
    "\n",
    "# features, hidden_layers = 128, 2\n",
    "# net = MLP(in_channels, out_channels, features, hidden_layers)\n",
    "# model_name = f\"torch_{sector}_c{c}_lap{laps}_{args.model}_h{hidden_layers}_f{features}\"\n",
    "# print(model_name)"
   ]
  },
  {
   "cell_type": "code",
   "execution_count": null,
   "id": "013cb665-9637-4d18-9757-9e263ec8dcd2",
   "metadata": {},
   "outputs": [],
   "source": [
    "ann_input, ann_output = make_mlp_input(inputs[:,:9], outputs[:,1:2], laps = laps)"
   ]
  },
  {
   "cell_type": "code",
   "execution_count": null,
   "id": "2e6aa402-25ad-47ce-ab71-25064cdf8712",
   "metadata": {},
   "outputs": [],
   "source": [
    "ann_"
   ]
  },
  {
   "cell_type": "code",
   "execution_count": null,
   "id": "9e1456d3-b50c-4461-a237-476c77772925",
   "metadata": {},
   "outputs": [],
   "source": [
    "train_input, val_input, train_output, val_output = train_test_split(ann_input, ann_output, test_size=0.6, random_state=42)"
   ]
  },
  {
   "cell_type": "code",
   "execution_count": 165,
   "id": "2db8148c-83c4-4858-9ee8-9d426f9e49f4",
   "metadata": {},
   "outputs": [
    {
     "data": {
      "text/plain": [
       "((19241, 36), (19241, 1), (28862, 36), (28862, 1))"
      ]
     },
     "execution_count": 165,
     "metadata": {},
     "output_type": "execute_result"
    }
   ],
   "source": [
    "train_input.shape, train_output.shape, val_input.shape, val_output.shape"
   ]
  },
  {
   "cell_type": "code",
   "execution_count": 144,
   "id": "478684ad-3e0d-4a23-a2c6-c3ee17f2eb47",
   "metadata": {},
   "outputs": [
    {
     "data": {
      "text/plain": [
       "tensor([45704, 33665, 46001,  4086, 47870, 31433, 19332, 21047, 33313, 44429])"
      ]
     },
     "execution_count": 144,
     "metadata": {},
     "output_type": "execute_result"
    }
   ],
   "source": [
    "n_samples = ann_input.shape[0]\n",
    "torch.randint(0, n_samples, (int(n_samples),), generator=torch.Generator().manual_seed(42))"
   ]
  },
  {
   "cell_type": "code",
   "execution_count": 136,
   "id": "95576c8c-51a5-414b-af87-d9fa1162cda7",
   "metadata": {},
   "outputs": [],
   "source": [
    "a1 = random_split(a, [0.5, 0.5], generator=torch.Generator().manual_seed(42))\n",
    "b1 = random_split(b, [0.5, 0.5], generator=torch.Generator().manual_seed(42))"
   ]
  },
  {
   "cell_type": "code",
   "execution_count": 137,
   "id": "5a3eadfd-17a1-4629-9a1d-5f7879da2144",
   "metadata": {},
   "outputs": [
    {
     "data": {
      "text/plain": [
       "<matplotlib.collections.PathCollection at 0x18700656980>"
      ]
     },
     "execution_count": 137,
     "metadata": {},
     "output_type": "execute_result"
    },
    {
     "data": {
      "image/png": "[encoded data removed]",
      "text/plain": [
       "<Figure size 640x480 with 1 Axes>"
      ]
     },
     "metadata": {},
     "output_type": "display_data"
    }
   ],
   "source": [
    "plt.scatter(a1, b1)"
   ]
  },
  {
   "cell_type": "code",
   "execution_count": 159,
   "id": "cebb2785-18eb-4257-8503-a05849c7f241",
   "metadata": {},
   "outputs": [
    {
     "data": {
      "text/plain": [
       "[<matplotlib.lines.Line2D at 0x1872b30b250>,\n",
       " <matplotlib.lines.Line2D at 0x1872b30b2e0>,\n",
       " <matplotlib.lines.Line2D at 0x1872b30b3d0>,\n",
       " <matplotlib.lines.Line2D at 0x1872b30b4c0>]"
      ]
     },
     "execution_count": 159,
     "metadata": {},
     "output_type": "execute_result"
    },
    {
     "data": {
      "image/png": "[encoded data removed]",
      "text/plain": [
       "<Figure size 640x480 with 1 Axes>"
      ]
     },
     "metadata": {},
     "output_type": "display_data"
    }
   ],
   "source": [
    "c = 8\n",
    "plt.plot(ann_input[:, c*laps:(c+1)*laps], '.')"
   ]
  },
  {
   "cell_type": "code",
   "execution_count": 24,
   "id": "d05a71d9-0377-45fc-a6cc-5148545e5529",
   "metadata": {},
   "outputs": [
    {
     "data": {
      "text/plain": [
       "<matplotlib.colorbar.Colorbar at 0x1876b2ce830>"
      ]
     },
     "execution_count": 24,
     "metadata": {},
     "output_type": "execute_result"
    },
    {
     "data": {
      "image/png": "[encoded data removed]",
      "text/plain": [
       "<Figure size 640x480 with 2 Axes>"
      ]
     },
     "metadata": {},
     "output_type": "display_data"
    }
   ],
   "source": [
    "i = 60\n",
    "c = 2\n",
    "plt.pcolormesh(xx, yy, inputs[i, c])\n",
    "plt.colorbar()"
   ]
  },
  {
   "cell_type": "code",
   "execution_count": 47,
   "id": "a52c8b36-c1d1-45b6-900b-3dbad35d3951",
   "metadata": {},
   "outputs": [
    {
     "name": "stderr",
     "output_type": "stream",
     "text": [
      "2024-07-23 10:11:15,144 INFO Welcome to the CDS\n",
      "2024-07-23 10:11:15,144 INFO Sending request to https://cds.climate.copernicus.eu/api/v2/resources/reanalysis-era5-single-levels\n",
      "2024-07-23 10:11:15,757 INFO Request is completed\n"
     ]
    }
   ],
   "source": [
    "ds = retrieve_hourly_ERA5(year, ['04'], ['10', '11'])"
   ]
  },
  {
   "cell_type": "code",
   "execution_count": 67,
   "id": "293e8421-8295-4c8f-a07c-260b570f655b",
   "metadata": {},
   "outputs": [
    {
     "name": "stderr",
     "output_type": "stream",
     "text": [
      "2024-07-23 10:38:13,641 INFO Welcome to the CDS\n",
      "2024-07-23 10:38:13,656 INFO Sending request to https://cds.climate.copernicus.eu/api/v2/resources/reanalysis-era5-single-levels\n",
      "2024-07-23 10:38:13,949 INFO Request is completed\n"
     ]
    }
   ],
   "source": [
    "months = ['04']\n",
    "days = ['10', '11']\n",
    "c = cdsapi.Client(quiet=True, debug=False)\n",
    "# dataset to read\n",
    "dataset = 'reanalysis-era5-single-levels'\n",
    "# flag to download data\n",
    "# download_flag = False\n",
    "variables = [\n",
    "    '10m_u_component_of_wind', '10m_v_component_of_wind', 'instantaneous_10m_wind_gust',\n",
    "    '2m_temperature', 'sea_ice_cover', 'surface_pressure'\n",
    "]\n",
    "\n",
    "params = {\n",
    "    'format': 'netcdf',\n",
    "    'product_type': 'reanalysis',\n",
    "    'variable': variables,\n",
    "    'year':[str(year)],\n",
    "    'month': months,\n",
    "    'day': days,\n",
    "    'time': ['12:00'],\n",
    "    'grid': [1, 0.5],\n",
    "    'area': [-50, -180, -90, 180]\n",
    "    }\n",
    "\n",
    "# retrieves the path to the file\n",
    "fl = c.retrieve(dataset, params)"
   ]
  },
  {
   "cell_type": "code",
   "execution_count": 50,
   "id": "4f05f72c-108d-4eba-ab8e-a5e9bc5964a1",
   "metadata": {},
   "outputs": [],
   "source": [
    "import inspect"
   ]
  },
  {
   "cell_type": "code",
   "execution_count": 53,
   "id": "7bf078e8-892f-45ba-bfca-4da69e20eca5",
   "metadata": {},
   "outputs": [
    {
     "data": {
      "text/plain": [
       "ArgSpec(args=['self', 'name', 'request', 'target'], varargs=None, keywords=None, defaults=(None,))"
      ]
     },
     "execution_count": 53,
     "metadata": {},
     "output_type": "execute_result"
    }
   ],
   "source": [
    "inspect.getargspec(c.retrieve)"
   ]
  },
  {
   "cell_type": "code",
   "execution_count": 4,
   "id": "adf16b21-45a2-49df-b87b-4a510ac77134",
   "metadata": {},
   "outputs": [],
   "source": [
    "filepath = \"D:\\\\IS2_topo_DL\"\n",
    "region = \"Ross\"\n",
    "year = 2019\n",
    "\n",
    "##### Read data ##############################\n",
    "try: ncfile.close()  # just to be safe, make sure dataset is not already open.\n",
    "except: pass\n",
    "\n",
    "ncname = filepath + f'\\\\Ridges_density_{region}_{year}.nc'\n",
    "ds = xr.open_dataset(ncname)\n",
    "\n",
    "with netCDF4.Dataset(ncname, 'r') as nc:\n",
    "    lat = np.array(nc.variables['lat'])\n",
    "    lon = np.array(nc.variables['lon'])\n",
    "    x = np.array(nc.variables['x'])\n",
    "    y = np.array(nc.variables['y'])\n",
    "    xx, yy = np.meshgrid(x, y)\n",
    "\n",
    "    times = nc.variables['time']\n",
    "    times = num2date(times[:], units = times.units)\n",
    "\n",
    "    hours = np.array(nc.variables['time']).astype(float)\n",
    "    time_era = []\n",
    "\n",
    "    for i in range(0, len(hours)):\n",
    "        time_era.append(dt.datetime(1800, 1, 1) + dt.timedelta(hours = hours[i]))\n",
    "\n",
    "date1, date2 = [], []\n",
    "for m in range(1, 13):\n",
    "    date1.append(dt.datetime(year,m,1))\n",
    "    if m == 12:\n",
    "        date2.append(dt.datetime(year+1,1,1))\n",
    "    else:\n",
    "        date2.append(dt.datetime(year,m+1,1))\n",
    "\n",
    "fields = ['fb_mode']\n",
    "output = np.zeros([len(fields), len(date1), xx.shape[0], xx.shape[1]])\n",
    "\n",
    "for k, field1 in enumerate(fields):\n",
    "    for i in range(0, len(date1)):                \n",
    "\n",
    "        tidx = np.where((times >= date1[i]) & (times < date2[i]))[0]\n",
    "        fb_count = np.nansum(np.array(ds.variables[\"fb_count\"][tidx, :, :]), axis = 0)\n",
    "        valid_count = (fb_count > 500)\n",
    "        \n",
    "        if np.sum(tidx) > 0:\n",
    "            array = np.array(ds.variables[field1][tidx, :, :])\n",
    "            # array = np.transpose(np.array(ds.variables[field1][tidx, :, :]), axes = (0, 2, 1))\n",
    "            data1 = np.nanmedian(array, axis = 0)\n",
    "            data1[~valid_count] = np.nan\n",
    "\n",
    "        output[k, i] = np.transpose(np.nanmean(array, axis = 0))\n",
    "        "
   ]
  },
  {
   "cell_type": "code",
   "execution_count": 7,
   "id": "626d0844-957d-45a5-bbaa-f29896768832",
   "metadata": {},
   "outputs": [
    {
     "data": {
      "text/plain": [
       "(1, 12, 96, 141)"
      ]
     },
     "execution_count": 7,
     "metadata": {},
     "output_type": "execute_result"
    }
   ],
   "source": [
    "output.shape"
   ]
  },
  {
   "cell_type": "code",
   "execution_count": 9,
   "id": "91da2d4e-b6c6-48ce-bcdf-21453e4357dc",
   "metadata": {},
   "outputs": [
    {
     "data": {
      "text/plain": [
       "<matplotlib.collections.QuadMesh at 0x14717f8e140>"
      ]
     },
     "execution_count": 9,
     "metadata": {},
     "output_type": "execute_result"
    },
    {
     "data": {
      "image/png": "[encoded data removed]",
      "text/plain": [
       "<Figure size 640x480 with 1 Axes>"
      ]
     },
     "metadata": {},
     "output_type": "display_data"
    }
   ],
   "source": [
    "plt.pcolormesh(xx, yy, output[0, 4])"
   ]
  },
  {
   "cell_type": "code",
   "execution_count": 55,
   "id": "cbf80ceb-66ae-4d35-9a5b-e2d9a0455e04",
   "metadata": {},
   "outputs": [
    {
     "name": "stderr",
     "output_type": "stream",
     "text": [
      "100%|████████████████████████████████████████████████████████████████████████████████████| 4/4 [00:00<00:00, 24.56it/s]\n"
     ]
    },
    {
     "name": "stdout",
     "output_type": "stream",
     "text": [
      "Grid files are read!\n"
     ]
    }
   ],
   "source": [
    "w = 1\n",
    "ws = 2*w+1 # size of one width in the square\n",
    "n_nodes = ws**2\n",
    "xx, yy, inputs, outputs = read_grid_input(files, c)\n",
    "\n",
    "# Input & output should be entire images for CNN\n",
    "n_samples, var_ip, row, col = np.shape(inputs)\n",
    "_, var_op, _, _ = np.shape(outputs)\n",
    "\n",
    "first = True\n",
    "\n",
    "if first:\n",
    "    center = (ws)*w + w\n",
    "    src = []\n",
    "    dst = []\n",
    "    # weight = []\n",
    "    # slope = []\n",
    "\n",
    "    for i in range(0, ws):\n",
    "        for j in range(0, ws):\n",
    "            src.append(i*ws + j)\n",
    "            dst.append(center)\n",
    "\n",
    "    src = torch.tensor(src)\n",
    "    dst = torch.tensor(dst)"
   ]
  },
  {
   "cell_type": "code",
   "execution_count": 56,
   "id": "011e92e1-ef92-48d1-b91d-0496270548ba",
   "metadata": {},
   "outputs": [
    {
     "data": {
      "text/plain": [
       "tensor([0, 1, 2, 3, 4, 5, 6, 7, 8])"
      ]
     },
     "execution_count": 56,
     "metadata": {},
     "output_type": "execute_result"
    }
   ],
   "source": [
    "src"
   ]
  },
  {
   "cell_type": "code",
   "execution_count": 59,
   "id": "289c9e36-fef4-44d5-bebb-b975bad9b28d",
   "metadata": {},
   "outputs": [],
   "source": [
    "n = 1\n",
    "t = 2\n",
    "v = 1\n",
    "i = 50\n",
    "j = 40\n",
    "a = normalize_input(inputs[n+t, v, i-1:i+2, j-1:j+2], v)"
   ]
  },
  {
   "cell_type": "code",
   "execution_count": 63,
   "id": "10c6f4ff-9e89-48ce-a0f1-5eabb7581d72",
   "metadata": {},
   "outputs": [
    {
     "data": {
      "text/plain": [
       "array([ 0.        , -0.9127264 , -0.98548444,  0.        , -0.87970957,\n",
       "       -0.95790413,  0.        , -0.86783512, -0.94533696])"
      ]
     },
     "execution_count": 63,
     "metadata": {},
     "output_type": "execute_result"
    }
   ],
   "source": [
    "a.flatten()"
   ]
  },
  {
   "cell_type": "code",
   "execution_count": 64,
   "id": "e06016c6-198d-4d8a-aa50-c1d400c19267",
   "metadata": {},
   "outputs": [
    {
     "name": "stdout",
     "output_type": "stream",
     "text": [
      "Downloading C:\\Users\\kooal\\.dgl\\GINDataset.zip from https://raw.githubusercontent.com/weihua916/powerful-gnns/master/dataset.zip...\n"
     ]
    },
    {
     "name": "stderr",
     "output_type": "stream",
     "text": [
      "C:\\Users\\kooal\\.dgl\\GINDataset.zip: 100%|█████████████████████████████████████████| 33.4M/33.4M [00:01<00:00, 18.7MB/s]\n"
     ]
    },
    {
     "name": "stdout",
     "output_type": "stream",
     "text": [
      "Extracting file to C:\\Users\\kooal\\.dgl\\GINDataset\n"
     ]
    }
   ],
   "source": [
    "import dgl.data\n",
    "dataset = dgl.data.GINDataset('MUTAG', False)"
   ]
  },
  {
   "cell_type": "code",
   "execution_count": 175,
   "id": "6fb49304-1dd1-4cf4-8732-af96d92f2b19",
   "metadata": {},
   "outputs": [
    {
     "name": "stderr",
     "output_type": "stream",
     "text": [
      "100%|████████████████████████████████████████████████████████████████████████████████████| 4/4 [00:00<00:00, 17.46it/s]\n"
     ]
    },
    {
     "name": "stdout",
     "output_type": "stream",
     "text": [
      "Grid files are read!\n"
     ]
    },
    {
     "name": "stderr",
     "output_type": "stream",
     "text": [
      "100%|████████████████████████████████████████████████████████████████████████████████| 156/156 [01:46<00:00,  1.46it/s]\n"
     ]
    }
   ],
   "source": [
    "dataset = gnn_input(url = glob.glob(f'D:\\\\IS2_topo_DL\\\\data\\\\Data_{sector}_*.pkl'))"
   ]
  },
  {
   "cell_type": "code",
   "execution_count": 165,
   "id": "27928a80-24eb-44c6-a38d-7c88c56f2a24",
   "metadata": {},
   "outputs": [],
   "source": [
    "from dgl.data import split_dataset\n",
    "from dgl.dataloading import GraphDataLoader\n",
    "from torch.optim import Adam\n",
    "from torch.optim.lr_scheduler import ExponentialLR\n",
    "import time"
   ]
  },
  {
   "cell_type": "code",
   "execution_count": 178,
   "id": "5594b340-3811-483c-bbfa-62ece8410fe4",
   "metadata": {},
   "outputs": [],
   "source": [
    "batch_size = 16\n",
    "\n",
    "train_set, val_set = split_dataset(dataset, frac_list=[0.7, 0.3], shuffle=True, random_state=42)\n",
    "train_loader = GraphDataLoader(train_set, use_ddp=False, batch_size=batch_size, shuffle=True)\n",
    "val_loader = GraphDataLoader(val_set, use_ddp=False, batch_size=batch_size, shuffle=True)"
   ]
  },
  {
   "cell_type": "code",
   "execution_count": 120,
   "id": "edb371e1-f013-4fb9-afa1-6419d5554d58",
   "metadata": {},
   "outputs": [],
   "source": [
    "n_nodes = val_set[0][0].num_nodes()\n",
    "in_channels = val_set[0][0].ndata['feat'].shape[1]\n",
    "out_channels = 1"
   ]
  },
  {
   "cell_type": "code",
   "execution_count": 151,
   "id": "995ef013-3c07-48c6-9f3c-6c2f1e23e767",
   "metadata": {},
   "outputs": [],
   "source": [
    "class GCN(nn.Module):\n",
    "    def __init__(self, ch_input, ch_output, features = 128, hidden_layers = 4):\n",
    "        super(GCN, self).__init__()\n",
    "\n",
    "        modules = [GraphConv(ch_input, features)]\n",
    "\n",
    "        for i in range(hidden_layers):\n",
    "            modules.append(GraphConv(features, features))\n",
    "            # modules.append(nn.LeakyReLU())\n",
    "\n",
    "        self.gcn = dgl.nn.Sequential(*modules)\n",
    "        self.lin = nn.Linear(features, ch_output)\n",
    "        self.activation = nn.ReLU()\n",
    "\n",
    "    \n",
    "    def forward(self, g, in_feat):\n",
    "        edge_weight = None #g.edata['weight'].type(torch.float32)\n",
    "        h = self.gcn(g, in_feat, edge_weight)\n",
    "        out = self.activation(self.lin(h))\n",
    "        return out\n",
    "\n",
    "features = 128\n",
    "hidden_layers = 2\n",
    "model = GCN(in_channels, out_channels, features, hidden_layers)"
   ]
  },
  {
   "cell_type": "code",
   "execution_count": 183,
   "id": "3992aa01-80ea-4d18-8e28-0839346e76a3",
   "metadata": {},
   "outputs": [
    {
     "name": "stdout",
     "output_type": "stream",
     "text": [
      "Number of parameters: 37889\n",
      "Epoch 000 >> Train loss: 86095.1369; Val loss: 239.5276 [64.76 sec]\n",
      "Epoch 001 >> Train loss: 239.3287; Val loss: 239.2368 [64.84 sec]\n"
     ]
    },
    {
     "name": "stderr",
     "output_type": "stream",
     "text": [
      "\n",
      "KeyboardInterrupt\n",
      "\n"
     ]
    }
   ],
   "source": [
    "criterion = nn.MSELoss() #regional_loss() #nn.MSELoss() #nn.CrossEntropyLoss()\n",
    "optimizer = Adam(model.parameters(), 0.01)\n",
    "scheduler = ExponentialLR(optimizer, gamma=0.95)\n",
    "\n",
    "total_params = sum(p.numel() for p in model.parameters())\n",
    "device = \"cpu\"\n",
    "# print(model_name)\n",
    "print(f\"Number of parameters: {total_params}\")\n",
    "\n",
    "history = {'loss': [], 'val_loss': [], 'time': []}\n",
    "ti = time.time()\n",
    "\n",
    "for epoch in range(10):\n",
    "    t0 = time.time()\n",
    "    model.train()\n",
    "    # The line below ensures all processes use a different\n",
    "    # random ordering in data loading for each epoch.\n",
    "    \n",
    "    ##### TRAIN ###########################\n",
    "    train_loss = 0\n",
    "    train_count = 0\n",
    "    for bg, target in train_loader:\n",
    "        bg = bg.to(device)\n",
    "        feats = bg.ndata['feat']                \n",
    "        pred = model(bg, feats)            \n",
    "        loss = criterion(pred*100, target*100)\n",
    "        train_loss += loss.cpu().item()\n",
    "        optimizer.zero_grad()\n",
    "        loss.backward()\n",
    "        optimizer.step()\n",
    "        train_count += 1\n",
    "    scheduler.step()\n",
    "    \n",
    "    ##### VALIDATION ######################\n",
    "    val_loss = 0\n",
    "    val_count = 0\n",
    "    for bg, target in val_loader:\n",
    "        bg = bg.to(device)\n",
    "        feats = bg.ndata['feat']                \n",
    "        pred = model(bg, feats)            \n",
    "        loss = criterion(pred*100, target*100)                \n",
    "        val_loss += loss.cpu().item()\n",
    "        val_count += 1\n",
    "        \n",
    "    history['loss'].append(train_loss/train_count)\n",
    "    history['val_loss'].append(val_loss/val_count)\n",
    "    history['time'].append(time.time() - ti)\n",
    "    \n",
    "    t1 = time.time() - t0\n",
    "\n",
    "    if epoch % 1 == 0:            \n",
    "        print('Epoch {0} >> Train loss: {1:.4f}; Val loss: {2:.4f} [{3:.2f} sec]'.format(str(epoch).zfill(3), train_loss/train_count, val_loss/val_count, t1))"
   ]
  },
  {
   "cell_type": "code",
   "execution_count": 181,
   "id": "a415654c-60ee-4a88-8174-3752ee3125ba",
   "metadata": {},
   "outputs": [
    {
     "name": "stdout",
     "output_type": "stream",
     "text": [
      "Epoch 000 >> Train loss: 101.0475; Val loss: 83.6006 [71.86 sec]\n"
     ]
    }
   ],
   "source": [
    "print('Epoch {0} >> Train loss: {1:.4f}; Val loss: {2:.4f} [{3:.2f} sec]'.format(str(epoch).zfill(3), train_loss/train_count, val_loss/val_count, t1))"
   ]
  },
  {
   "cell_type": "code",
   "execution_count": 154,
   "id": "2b1459ed-421b-4658-b88f-6695e476a5c7",
   "metadata": {},
   "outputs": [
    {
     "name": "stderr",
     "output_type": "stream",
     "text": [
      "100%|█████████████████████████████████████████████████████████████████████████████| 4233/4233 [00:37<00:00, 112.90it/s]\n"
     ]
    }
   ],
   "source": [
    "for bg, target in tqdm(train_loader):\n",
    "    bg = bg.to('cpu')\n",
    "    bg = dgl.add_self_loop(bg)\n",
    "    feats = bg.ndata['feat']                \n",
    "    pred = model(bg, feats) "
   ]
  }
 ],
 "metadata": {
  "kernelspec": {
   "display_name": "Python 3 (ipykernel)",
   "language": "python",
   "name": "python3"
  },
  "language_info": {
   "codemirror_mode": {
    "name": "ipython",
    "version": 3
   },
   "file_extension": ".py",
   "mimetype": "text/x-python",
   "name": "python",
   "nbconvert_exporter": "python",
   "pygments_lexer": "ipython3",
   "version": "3.10.14"
  }
 },
 "nbformat": 4,
 "nbformat_minor": 5
}
